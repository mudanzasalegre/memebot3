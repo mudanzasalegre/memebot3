{
 "cells": [
  {
   "cell_type": "code",
   "execution_count": null,
   "id": "1f874eca",
   "metadata": {},
   "outputs": [],
   "source": [
    "# %% [markdown]\n",
    "# 0 ——————————————————————————————————————————————\n",
    "#  Configuración global + lectura\n",
    "# ---------------------------------------------------------\n",
    "\n",
    "# %%\n",
    "import sys, pathlib, warnings, json, joblib\n",
    "import numpy as np\n",
    "import pandas as pd\n",
    "import matplotlib.pyplot as plt\n",
    "import seaborn as sns\n",
    "\n",
    "from scipy import stats\n",
    "from sklearn.metrics import roc_auc_score, roc_curve, classification_report\n",
    "from sklearn.preprocessing import StandardScaler\n",
    "from sklearn.linear_model import LogisticRegression\n",
    "from sklearn.model_selection import train_test_split\n",
    "import lightgbm as lgb\n",
    "\n",
    "# ——— rutas ———\n",
    "ROOT = pathlib.Path().resolve()           # carpeta donde abriste Jupyter\n",
    "for p in [ROOT] + list(ROOT.parents):\n",
    "    if (p / \"memebot3\").is_dir():\n",
    "        REPO = p\n",
    "        break\n",
    "else:\n",
    "    raise RuntimeError(\"✗ No encuentro la carpeta ‘memebot3’\")\n",
    "\n",
    "PARQUET = REPO / \"memebot3\" / \"data\" / \"features\" / \"features_202507.parquet\"\n",
    "assert PARQUET.exists(), PARQUET\n",
    "\n",
    "# silencios menores\n",
    "warnings.filterwarnings(\"ignore\", category=FutureWarning)\n",
    "sns.set_theme()\n",
    "\n",
    "df = pd.read_parquet(PARQUET)\n",
    "print(\"Shape:\", df.shape)"
   ]
  },
  {
   "cell_type": "code",
   "execution_count": null,
   "id": "1fcbc739",
   "metadata": {},
   "outputs": [],
   "source": [
    "# %%\n",
    "df.info()\n",
    "\n",
    "null_pct = (df.isna().mean() * 100).sort_values(ascending=False)\n",
    "display(null_pct.head(15).to_frame(\"null_%\"))\n",
    "\n",
    "# Resumen estadístico ampliado\n",
    "display(df.describe(percentiles=[.01, .1, .25, .5, .75, .9, .99]).T)"
   ]
  },
  {
   "cell_type": "code",
   "execution_count": null,
   "id": "436f5acf",
   "metadata": {},
   "outputs": [],
   "source": [
    "# %%\n",
    "label_counts = df[\"label\"].value_counts(dropna=False)\n",
    "print(label_counts, \"\\nProporción positiva:\", label_counts.get(1,0) / label_counts.sum())\n",
    "sns.countplot(x=\"label\", data=df)\n",
    "plt.title(\"Distribución de la etiqueta\"); plt.show()"
   ]
  },
  {
   "cell_type": "code",
   "execution_count": null,
   "id": "33f22e5c",
   "metadata": {},
   "outputs": [],
   "source": [
    "# %%\n",
    "num_cols = df.select_dtypes(include=[np.number]).columns.drop(\"label\")\n",
    "pbiserial = {\n",
    "    col: stats.pointbiserialr(df[\"label\"], df[col].fillna(df[col].median()))[0]\n",
    "    for col in num_cols\n",
    "}\n",
    "corr_ser = pd.Series(pbiserial).sort_values(key=np.abs, ascending=False)\n",
    "display(corr_ser.head(25).to_frame(\"pbiserial\"))"
   ]
  },
  {
   "cell_type": "code",
   "execution_count": null,
   "id": "cd735e88",
   "metadata": {},
   "outputs": [],
   "source": [
    "# %%\n",
    "plt.figure(figsize=(12,10))\n",
    "corr = df[num_cols].corr()\n",
    "mask = np.triu(np.ones_like(corr, dtype=bool))\n",
    "sns.heatmap(corr, mask=mask, vmax=.8, vmin=-.8, center=0,\n",
    "            cmap=\"vlag\", square=True, linewidths=.3)\n",
    "plt.title(\"Correlación entre variables numéricas\")\n",
    "plt.show()"
   ]
  },
  {
   "cell_type": "code",
   "execution_count": null,
   "id": "958c01d2",
   "metadata": {},
   "outputs": [],
   "source": [
    "# %%\n",
    "def outlier_summary(series):\n",
    "    q1, q3 = np.percentile(series.dropna(), [25, 75])\n",
    "    iqr = q3 - q1\n",
    "    low, high = q1 - 1.5*iqr, q3 + 1.5*iqr\n",
    "    z = stats.zscore(series.dropna())\n",
    "    return {\n",
    "        \"iqr_outliers\": ((series < low) | (series > high)).sum(),\n",
    "        \"z>3\": (np.abs(z) > 3).sum(),\n",
    "        \"pct_outliers\": ((series < low) | (series > high)).mean()*100\n",
    "    }\n",
    "\n",
    "out_df = (pd.DataFrame({c: outlier_summary(df[c]) for c in num_cols}).T\n",
    "          .sort_values(\"pct_outliers\", ascending=False))\n",
    "display(out_df.head(15))"
   ]
  },
  {
   "cell_type": "code",
   "execution_count": null,
   "id": "b698ba96",
   "metadata": {},
   "outputs": [],
   "source": [
    "sns.boxplot(x=df[\"liquidity_usd\"]); plt.xscale(\"log\")\n",
    "plt.title(\"Boxplot liquidity_usd (log)\"); plt.show()"
   ]
  },
  {
   "cell_type": "code",
   "execution_count": null,
   "id": "50e63242",
   "metadata": {},
   "outputs": [],
   "source": [
    "# %%\n",
    "TOP_FEATS = corr_ser.index[:30]    # 30 con mayor |corr|\n",
    "X = df[TOP_FEATS].fillna(0)\n",
    "y = df[\"label\"].astype(int)\n",
    "\n",
    "scaler = StandardScaler()\n",
    "X_scaled = scaler.fit_transform(X)\n",
    "\n",
    "logreg = LogisticRegression(max_iter=1000, class_weight=\"balanced\")\n",
    "logreg.fit(X_scaled, y)\n",
    "proba_lr = logreg.predict_proba(X_scaled)[:,1]\n",
    "auc_lr = roc_auc_score(y, proba_lr)\n",
    "print(f\"AUC entrenamiento Logistic Reg = {auc_lr:.4f}\")"
   ]
  },
  {
   "cell_type": "code",
   "execution_count": null,
   "id": "aa09dfad",
   "metadata": {},
   "outputs": [],
   "source": [
    "# %%\n",
    "# Split temporal: 80 % primeras filas → train\n",
    "df_sorted = df.sort_values(\"timestamp\")\n",
    "split = int(len(df_sorted)*.8)\n",
    "train_df, test_df = df_sorted.iloc[:split], df_sorted.iloc[split:]\n",
    "\n",
    "FEATURES = [c for c in num_cols if c != \"label\"]   # todas numéricas\n",
    "\n",
    "lgb_train = lgb.Dataset(train_df[FEATURES], train_df[\"label\"])\n",
    "lgb_test  = lgb.Dataset(test_df[FEATURES],  test_df[\"label\"], reference=lgb_train)\n",
    "\n",
    "params = dict(\n",
    "    objective=\"binary\",\n",
    "    metric=\"auc\",\n",
    "    learning_rate=0.05,\n",
    "    num_leaves=64,\n",
    "    min_data_in_leaf=100,\n",
    "    subsample=.8,\n",
    "    colsample_bytree=.8,\n",
    "    seed=42,\n",
    "    verbosity=-1,\n",
    ")\n",
    "\n",
    "model = lgb.train(\n",
    "    params, lgb_train, num_boost_round=800,\n",
    "    valid_sets=[lgb_test],\n",
    "    callbacks=[lgb.early_stopping(50, verbose=False)]\n",
    ")\n",
    "\n",
    "pred = model.predict(test_df[FEATURES], num_iteration=model.best_iteration)\n",
    "auc_lgb = roc_auc_score(test_df[\"label\"], pred)\n",
    "print(f\"AUC hold-out LightGBM = {auc_lgb:.4f}\")"
   ]
  },
  {
   "cell_type": "code",
   "execution_count": null,
   "id": "c97a7ba7",
   "metadata": {},
   "outputs": [],
   "source": [
    "# %%\n",
    "fpr, tpr, thr = roc_curve(test_df[\"label\"], pred)\n",
    "plt.plot(fpr, tpr); plt.plot([0,1],[0,1],\"--\",alpha=.4)\n",
    "plt.xlabel(\"FPR\"); plt.ylabel(\"TPR\"); plt.title(\"ROC – LightGBM\"); plt.show()\n",
    "\n",
    "g = tpr - fpr               # máximo de Youden\n",
    "best_idx = np.argmax(g)\n",
    "best_thr = thr[best_idx]\n",
    "print(f\"Umbral óptimo (Youden): {best_thr:.3f}\")"
   ]
  },
  {
   "cell_type": "code",
   "execution_count": null,
   "id": "d4e34aa7",
   "metadata": {},
   "outputs": [],
   "source": [
    "# %%\n",
    "imp = model.feature_importance()\n",
    "imp_df = pd.DataFrame({\"feature\": FEATURES, \"gain\": imp})\n",
    "imp_df = imp_df.sort_values(\"gain\", ascending=False)\n",
    "display(imp_df.head(25))\n",
    "\n",
    "TOP40 = imp_df.head(40)[\"feature\"].tolist()\n",
    "path_top = REPO / \"memebot3\" / \"ml\" / \"top_features.txt\"\n",
    "path_top.write_text(\"\\n\".join(TOP40))\n",
    "print(\"✔ top_features.txt guardado en\", path_top)"
   ]
  },
  {
   "cell_type": "code",
   "execution_count": null,
   "id": "b7c9fe50",
   "metadata": {},
   "outputs": [],
   "source": [
    "# %%\n",
    "MODEL_DIR = REPO / \"memebot3\" / \"ml\"\n",
    "MODEL_DIR.mkdir(parents=True, exist_ok=True)\n",
    "\n",
    "joblib.dump(model, MODEL_DIR / \"model.pkl\")\n",
    "json.dump({\"features\": FEATURES, \"auc\": auc_lgb},\n",
    "          open(MODEL_DIR / \"model.meta.json\", \"w\"), indent=2)\n",
    "print(\"Modelo + metadatos guardados en\", MODEL_DIR)"
   ]
  }
 ],
 "metadata": {
  "language_info": {
   "name": "python"
  }
 },
 "nbformat": 4,
 "nbformat_minor": 5
}
